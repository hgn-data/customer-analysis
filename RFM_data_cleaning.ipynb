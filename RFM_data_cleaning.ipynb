{
 "cells": [
  {
   "cell_type": "code",
   "execution_count": 1,
   "id": "7d6f8847",
   "metadata": {},
   "outputs": [
    {
     "name": "stdout",
     "output_type": "stream",
     "text": [
      "<class 'pandas.core.frame.DataFrame'>\n",
      "RangeIndex: 1048575 entries, 0 to 1048574\n",
      "Data columns (total 7 columns):\n",
      " #   Column        Non-Null Count    Dtype  \n",
      "---  ------        --------------    -----  \n",
      " 0   ID            1048575 non-null  int64  \n",
      " 1   Contract      1048575 non-null  object \n",
      " 2   LocationID    1048574 non-null  float64\n",
      " 3   BranchCode    1048573 non-null  float64\n",
      " 4   Status        1048575 non-null  int64  \n",
      " 5   created_date  1048575 non-null  object \n",
      " 6   stopdate      54 non-null       object \n",
      "dtypes: float64(2), int64(2), object(3)\n",
      "memory usage: 56.0+ MB\n",
      "None\n",
      "<class 'pandas.core.frame.DataFrame'>\n",
      "RangeIndex: 1048575 entries, 0 to 1048574\n",
      "Data columns (total 4 columns):\n",
      " #   Column          Non-Null Count    Dtype \n",
      "---  ------          --------------    ----- \n",
      " 0   Transaction_ID  1048575 non-null  int64 \n",
      " 1   CustomerID      1048575 non-null  int64 \n",
      " 2   Purchase_Date   1048575 non-null  object\n",
      " 3   GMV             1048575 non-null  int64 \n",
      "dtypes: int64(3), object(1)\n",
      "memory usage: 32.0+ MB\n",
      "None\n"
     ]
    }
   ],
   "source": [
    "import pandas as pd\n",
    "\n",
    "# --- Step 1: Load raw data from CSV files ---\n",
    "# Load customer registration and transaction data\n",
    "reg_df = pd.read_csv(\"Customer_Registered.csv\", low_memory=False)\n",
    "trans_df = pd.read_csv(\"Customer_Transaction.csv\", low_memory=False)\n",
    "\n",
    "\n",
    "# --- Step 2: Initial inspection of data structure ---\n",
    "# Print column types and null counts for quick overview\n",
    "print(reg_df.info())\n",
    "print(trans_df.info())"
   ]
  },
  {
   "cell_type": "code",
   "execution_count": null,
   "id": "87e1b936",
   "metadata": {},
   "outputs": [
    {
     "name": "stdout",
     "output_type": "stream",
     "text": [
      "ID                    0\n",
      "Contract              0\n",
      "LocationID            1\n",
      "BranchCode            2\n",
      "Status                0\n",
      "created_date          0\n",
      "stopdate        1048521\n",
      "dtype: int64\n",
      "Transaction_ID    0\n",
      "CustomerID        0\n",
      "Purchase_Date     0\n",
      "GMV               0\n",
      "dtype: int64\n"
     ]
    }
   ],
   "source": [
    "# --- Step 3: Check missing values in both tables ---\n",
    "print(reg_df.isnull().sum())\n",
    "print(trans_df.isnull().sum())"
   ]
  },
  {
   "cell_type": "code",
   "execution_count": null,
   "id": "df4d8936",
   "metadata": {},
   "outputs": [],
   "source": [
    "# --- Step 4: Drop rows with essential missing values ---\n",
    "# Drop rows missing LocationID or BranchCode, which are important for segmentation\n",
    "reg_df_clean = reg_df.dropna(subset=[\"LocationID\", \"BranchCode\"])\n"
   ]
  },
  {
   "cell_type": "code",
   "execution_count": null,
   "id": "68caf779",
   "metadata": {},
   "outputs": [],
   "source": [
    "# --- Step 5: Convert string-based date fields to datetime ---\n",
    "# Convert object columns to datetime and format to standard ISO date format YYYY-MM-DD\n",
    "reg_df_clean[\"created_date\"] = pd.to_datetime(reg_df_clean[\"created_date\"]).dt.strftime('%Y-%m-%d')\n",
    "reg_df_clean[\"stopdate\"] = pd.to_datetime(reg_df_clean[\"stopdate\"]).dt.strftime('%Y-%m-%d')\n",
    "trans_df[\"Purchase_Date\"] = pd.to_datetime(trans_df[\"Purchase_Date\"]).dt.strftime('%Y-%m-%d')\n"
   ]
  },
  {
   "cell_type": "code",
   "execution_count": null,
   "id": "b241e28f",
   "metadata": {},
   "outputs": [
    {
     "name": "stdout",
     "output_type": "stream",
     "text": [
      "<class 'pandas.core.frame.DataFrame'>\n",
      "Index: 1048573 entries, 0 to 1048574\n",
      "Data columns (total 8 columns):\n",
      " #   Column        Non-Null Count    Dtype  \n",
      "---  ------        --------------    -----  \n",
      " 0   ID            1048573 non-null  int64  \n",
      " 1   Contract      1048573 non-null  object \n",
      " 2   LocationID    1048573 non-null  float64\n",
      " 3   BranchCode    1048573 non-null  float64\n",
      " 4   Status        1048573 non-null  int64  \n",
      " 5   created_date  1048573 non-null  object \n",
      " 6   stopdate      35 non-null       object \n",
      " 7   status_label  1048573 non-null  object \n",
      "dtypes: float64(2), int64(2), object(4)\n",
      "memory usage: 72.0+ MB\n",
      "None\n",
      "<class 'pandas.core.frame.DataFrame'>\n",
      "RangeIndex: 1048575 entries, 0 to 1048574\n",
      "Data columns (total 4 columns):\n",
      " #   Column          Non-Null Count    Dtype \n",
      "---  ------          --------------    ----- \n",
      " 0   Transaction_ID  1048575 non-null  int64 \n",
      " 1   CustomerID      1048575 non-null  int64 \n",
      " 2   Purchase_Date   1048575 non-null  object\n",
      " 3   GMV             1048575 non-null  int64 \n",
      "dtypes: int64(3), object(1)\n",
      "memory usage: 32.0+ MB\n",
      "None\n"
     ]
    }
   ],
   "source": [
    "# --- Step 6: Final structure verification ---\n",
    "print(reg_df_clean.info())\n",
    "print(trans_df.info())"
   ]
  },
  {
   "cell_type": "code",
   "execution_count": 35,
   "id": "f741be0c",
   "metadata": {},
   "outputs": [],
   "source": [
    "reg_df_clean.to_csv(\"clean_customer_registered_for_sql.csv\", index=False)\n",
    "trans_df.to_csv(\"clean_customer_transaction_for_sql.csv\", index=False)\n"
   ]
  }
 ],
 "metadata": {
  "kernelspec": {
   "display_name": "Python 3",
   "language": "python",
   "name": "python3"
  },
  "language_info": {
   "codemirror_mode": {
    "name": "ipython",
    "version": 3
   },
   "file_extension": ".py",
   "mimetype": "text/x-python",
   "name": "python",
   "nbconvert_exporter": "python",
   "pygments_lexer": "ipython3",
   "version": "3.13.3"
  }
 },
 "nbformat": 4,
 "nbformat_minor": 5
}
