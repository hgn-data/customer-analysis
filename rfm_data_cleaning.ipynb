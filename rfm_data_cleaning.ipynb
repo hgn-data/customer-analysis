{
 "cells": [
  {
   "cell_type": "code",
   "execution_count": 2,
   "id": "8a2ed3d9",
   "metadata": {},
   "outputs": [
    {
     "name": "stderr",
     "output_type": "stream",
     "text": [
      "C:\\Users\\Admin\\AppData\\Local\\Temp\\ipykernel_35120\\3442669979.py:4: DtypeWarning: Columns (6) have mixed types. Specify dtype option on import or set low_memory=False.\n",
      "  reg_df = pd.read_csv(\"Customer_Registered.csv\")\n"
     ]
    },
    {
     "name": "stdout",
     "output_type": "stream",
     "text": [
      "<class 'pandas.core.frame.DataFrame'>\n",
      "RangeIndex: 1048575 entries, 0 to 1048574\n",
      "Data columns (total 7 columns):\n",
      " #   Column        Non-Null Count    Dtype  \n",
      "---  ------        --------------    -----  \n",
      " 0   ID            1048575 non-null  int64  \n",
      " 1   Contract      1048575 non-null  object \n",
      " 2   LocationID    1048574 non-null  float64\n",
      " 3   BranchCode    1048573 non-null  float64\n",
      " 4   Status        1048575 non-null  int64  \n",
      " 5   created_date  1048575 non-null  object \n",
      " 6   stopdate      54 non-null       object \n",
      "dtypes: float64(2), int64(2), object(3)\n",
      "memory usage: 56.0+ MB\n",
      "None\n",
      "<class 'pandas.core.frame.DataFrame'>\n",
      "RangeIndex: 1048575 entries, 0 to 1048574\n",
      "Data columns (total 4 columns):\n",
      " #   Column          Non-Null Count    Dtype \n",
      "---  ------          --------------    ----- \n",
      " 0   Transaction_ID  1048575 non-null  int64 \n",
      " 1   CustomerID      1048575 non-null  int64 \n",
      " 2   Purchase_Date   1048575 non-null  object\n",
      " 3   GMV             1048575 non-null  int64 \n",
      "dtypes: int64(3), object(1)\n",
      "memory usage: 32.0+ MB\n",
      "None\n"
     ]
    }
   ],
   "source": [
    "import pandas as pd\n",
    "\n",
    "# Load customer data\n",
    "reg_df = pd.read_csv(\"Customer_Registered.csv\")\n",
    "trans_df = pd.read_csv(\"Customer_Transaction.csv\")\n",
    "\n",
    "# Quick info\n",
    "print(reg_df.info())\n",
    "print(trans_df.info())\n"
   ]
  },
  {
   "cell_type": "markdown",
   "id": "e1c0a3ef",
   "metadata": {},
   "source": [
    "2. Identifying Missing Data"
   ]
  },
  {
   "cell_type": "code",
   "execution_count": 8,
   "id": "c7f0255f",
   "metadata": {},
   "outputs": [
    {
     "name": "stdout",
     "output_type": "stream",
     "text": [
      "ID                    0\n",
      "Contract              0\n",
      "LocationID            1\n",
      "BranchCode            2\n",
      "Status                0\n",
      "created_date          0\n",
      "stopdate        1048521\n",
      "dtype: int64\n",
      "Transaction_ID    0\n",
      "CustomerID        0\n",
      "Purchase_Date     0\n",
      "GMV               0\n",
      "dtype: int64\n"
     ]
    }
   ],
   "source": [
    "# Check nulls\n",
    "print(reg_df.isnull().sum())\n",
    "print(trans_df.isnull().sum())\n"
   ]
  },
  {
   "cell_type": "code",
   "execution_count": null,
   "id": "497edd8b",
   "metadata": {},
   "outputs": [],
   "source": [
    "# Drop rows with missing LocationID, BranchCode \n",
    "reg_df_clean = reg_df.dropna(subset=[\"LocationID\", \"BranchCode\"])"
   ]
  },
  {
   "cell_type": "code",
   "execution_count": 17,
   "id": "6d39bc11",
   "metadata": {},
   "outputs": [],
   "source": [
    "# Convert date columns to proper datetime format\n",
    "# \"created_date\" = customer registration date\n",
    "# \"stopdate\"     = customer churn date (can be null if still active)\n",
    "# \"Purchase_Date\" = transaction date\n",
    "reg_df_clean[\"created_date\"] = pd.to_datetime(reg_df_clean[\"created_date\"], errors='coerce')\n",
    "reg_df_clean[\"stopdate\"] = pd.to_datetime(reg_df_clean[\"stopdate\"], errors='coerce')\n",
    "trans_df[\"Purchase_Date\"] = pd.to_datetime(trans_df[\"Purchase_Date\"], errors='coerce')\n"
   ]
  },
  {
   "cell_type": "code",
   "execution_count": 18,
   "id": "e5d93893",
   "metadata": {},
   "outputs": [],
   "source": [
    "# Create a new column for customer status\n",
    "# If stopdate is missing, we assume customer is still active\n",
    "reg_df_clean[\"status_label\"] = reg_df_clean[\"stopdate\"].apply(\n",
    "    lambda x: \"Active\" if pd.isnull(x) else \"Inactive\"\n",
    ")"
   ]
  },
  {
   "cell_type": "code",
   "execution_count": 23,
   "id": "0a96449c",
   "metadata": {},
   "outputs": [
    {
     "name": "stdout",
     "output_type": "stream",
     "text": [
      "<class 'pandas.core.frame.DataFrame'>\n",
      "Index: 1048573 entries, 0 to 1048574\n",
      "Data columns (total 8 columns):\n",
      " #   Column        Non-Null Count    Dtype         \n",
      "---  ------        --------------    -----         \n",
      " 0   ID            1048573 non-null  int64         \n",
      " 1   Contract      1048573 non-null  object        \n",
      " 2   LocationID    1048573 non-null  float64       \n",
      " 3   BranchCode    1048573 non-null  float64       \n",
      " 4   Status        1048573 non-null  int64         \n",
      " 5   created_date  0 non-null        datetime64[ns]\n",
      " 6   stopdate      35 non-null       datetime64[ns]\n",
      " 7   status_label  1048573 non-null  object        \n",
      "dtypes: datetime64[ns](2), float64(2), int64(2), object(2)\n",
      "memory usage: 72.0+ MB\n",
      "None\n",
      "<class 'pandas.core.frame.DataFrame'>\n",
      "RangeIndex: 1048575 entries, 0 to 1048574\n",
      "Data columns (total 4 columns):\n",
      " #   Column          Non-Null Count    Dtype         \n",
      "---  ------          --------------    -----         \n",
      " 0   Transaction_ID  1048575 non-null  int64         \n",
      " 1   CustomerID      1048575 non-null  int64         \n",
      " 2   Purchase_Date   1048575 non-null  datetime64[ns]\n",
      " 3   GMV             1048575 non-null  int64         \n",
      "dtypes: datetime64[ns](1), int64(3)\n",
      "memory usage: 32.0 MB\n",
      "None\n"
     ]
    }
   ],
   "source": [
    "print(reg_df_clean.info())\n",
    "print(trans_df.info())\n"
   ]
  },
  {
   "cell_type": "code",
   "execution_count": 24,
   "id": "057f9993",
   "metadata": {},
   "outputs": [],
   "source": [
    "# Export cleaned data to CSV\n",
    "reg_df_clean.to_csv(\"customer_registered_clean.csv\", index=False)\n",
    "trans_df.to_csv(\"customer_transaction_clean.csv\", index=False)\n"
   ]
  }
 ],
 "metadata": {
  "kernelspec": {
   "display_name": "Python 3",
   "language": "python",
   "name": "python3"
  },
  "language_info": {
   "codemirror_mode": {
    "name": "ipython",
    "version": 3
   },
   "file_extension": ".py",
   "mimetype": "text/x-python",
   "name": "python",
   "nbconvert_exporter": "python",
   "pygments_lexer": "ipython3",
   "version": "3.13.3"
  }
 },
 "nbformat": 4,
 "nbformat_minor": 5
}
